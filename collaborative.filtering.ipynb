{
 "cells": [
  {
   "cell_type": "code",
   "execution_count": 2,
   "metadata": {
    "id": "zH-4NWYMp07I"
   },
   "outputs": [],
   "source": [
    "import pandas as pd\n",
    "import numpy as np\n",
    "from sklearn.metrics import mean_squared_error, mean_absolute_error"
   ]
  },
  {
   "cell_type": "code",
   "execution_count": 2,
   "metadata": {
    "id": "p020P-Dt1VMB"
   },
   "outputs": [],
   "source": [
    "def rmse(y_hat, y_actual):\n",
    "    return np.sqrt(mean_squared_error(y_actual, y_hat))"
   ]
  },
  {
   "cell_type": "code",
   "execution_count": 3,
   "metadata": {
    "id": "JtZjCZ9e1_8k"
   },
   "outputs": [],
   "source": [
    "def mae(y_hat, y_actual):\n",
    "    return mean_absolute_error(y_actual, y_hat)"
   ]
  },
  {
   "cell_type": "code",
   "execution_count": 4,
   "metadata": {
    "id": "cse4xV-hqNNL"
   },
   "outputs": [],
   "source": [
    "ratings = pd.read_csv('./dataset/train.txt', names=['movieId', 'userId', 'rating'])\n",
    "mean = ratings.groupby(by=\"userId\",as_index=False)['rating'].mean()\n",
    "rating_avg = pd.merge(ratings,mean,on='userId')"
   ]
  },
  {
   "cell_type": "code",
   "execution_count": 5,
   "metadata": {
    "colab": {
     "base_uri": "https://localhost:8080/",
     "height": 287
    },
    "id": "hKwAMmFQqYon",
    "outputId": "502daffe-18fd-4388-e28e-1523924855fb"
   },
   "outputs": [
    {
     "data": {
      "text/html": [
       "<div>\n",
       "<style scoped>\n",
       "    .dataframe tbody tr th:only-of-type {\n",
       "        vertical-align: middle;\n",
       "    }\n",
       "\n",
       "    .dataframe tbody tr th {\n",
       "        vertical-align: top;\n",
       "    }\n",
       "\n",
       "    .dataframe thead th {\n",
       "        text-align: right;\n",
       "    }\n",
       "</style>\n",
       "<table border=\"1\" class=\"dataframe\">\n",
       "  <thead>\n",
       "    <tr style=\"text-align: right;\">\n",
       "      <th>movieId</th>\n",
       "      <th>8</th>\n",
       "      <th>28</th>\n",
       "      <th>43</th>\n",
       "      <th>48</th>\n",
       "      <th>61</th>\n",
       "      <th>64</th>\n",
       "      <th>66</th>\n",
       "      <th>92</th>\n",
       "      <th>96</th>\n",
       "      <th>111</th>\n",
       "      <th>...</th>\n",
       "      <th>17654</th>\n",
       "      <th>17660</th>\n",
       "      <th>17689</th>\n",
       "      <th>17693</th>\n",
       "      <th>17706</th>\n",
       "      <th>17725</th>\n",
       "      <th>17728</th>\n",
       "      <th>17734</th>\n",
       "      <th>17741</th>\n",
       "      <th>17742</th>\n",
       "    </tr>\n",
       "    <tr>\n",
       "      <th>userId</th>\n",
       "      <th></th>\n",
       "      <th></th>\n",
       "      <th></th>\n",
       "      <th></th>\n",
       "      <th></th>\n",
       "      <th></th>\n",
       "      <th></th>\n",
       "      <th></th>\n",
       "      <th></th>\n",
       "      <th></th>\n",
       "      <th></th>\n",
       "      <th></th>\n",
       "      <th></th>\n",
       "      <th></th>\n",
       "      <th></th>\n",
       "      <th></th>\n",
       "      <th></th>\n",
       "      <th></th>\n",
       "      <th></th>\n",
       "      <th></th>\n",
       "      <th></th>\n",
       "    </tr>\n",
       "  </thead>\n",
       "  <tbody>\n",
       "    <tr>\n",
       "      <th>7</th>\n",
       "      <td>1.096154</td>\n",
       "      <td>0.096154</td>\n",
       "      <td>NaN</td>\n",
       "      <td>NaN</td>\n",
       "      <td>NaN</td>\n",
       "      <td>NaN</td>\n",
       "      <td>NaN</td>\n",
       "      <td>NaN</td>\n",
       "      <td>NaN</td>\n",
       "      <td>NaN</td>\n",
       "      <td>...</td>\n",
       "      <td>NaN</td>\n",
       "      <td>NaN</td>\n",
       "      <td>NaN</td>\n",
       "      <td>NaN</td>\n",
       "      <td>NaN</td>\n",
       "      <td>NaN</td>\n",
       "      <td>NaN</td>\n",
       "      <td>NaN</td>\n",
       "      <td>NaN</td>\n",
       "      <td>NaN</td>\n",
       "    </tr>\n",
       "    <tr>\n",
       "      <th>79</th>\n",
       "      <td>NaN</td>\n",
       "      <td>NaN</td>\n",
       "      <td>NaN</td>\n",
       "      <td>NaN</td>\n",
       "      <td>NaN</td>\n",
       "      <td>NaN</td>\n",
       "      <td>NaN</td>\n",
       "      <td>NaN</td>\n",
       "      <td>NaN</td>\n",
       "      <td>NaN</td>\n",
       "      <td>...</td>\n",
       "      <td>NaN</td>\n",
       "      <td>NaN</td>\n",
       "      <td>NaN</td>\n",
       "      <td>NaN</td>\n",
       "      <td>NaN</td>\n",
       "      <td>NaN</td>\n",
       "      <td>NaN</td>\n",
       "      <td>NaN</td>\n",
       "      <td>NaN</td>\n",
       "      <td>NaN</td>\n",
       "    </tr>\n",
       "    <tr>\n",
       "      <th>199</th>\n",
       "      <td>NaN</td>\n",
       "      <td>NaN</td>\n",
       "      <td>NaN</td>\n",
       "      <td>NaN</td>\n",
       "      <td>NaN</td>\n",
       "      <td>NaN</td>\n",
       "      <td>NaN</td>\n",
       "      <td>NaN</td>\n",
       "      <td>NaN</td>\n",
       "      <td>0.056338</td>\n",
       "      <td>...</td>\n",
       "      <td>NaN</td>\n",
       "      <td>NaN</td>\n",
       "      <td>NaN</td>\n",
       "      <td>NaN</td>\n",
       "      <td>NaN</td>\n",
       "      <td>NaN</td>\n",
       "      <td>NaN</td>\n",
       "      <td>NaN</td>\n",
       "      <td>NaN</td>\n",
       "      <td>NaN</td>\n",
       "    </tr>\n",
       "    <tr>\n",
       "      <th>481</th>\n",
       "      <td>NaN</td>\n",
       "      <td>NaN</td>\n",
       "      <td>NaN</td>\n",
       "      <td>NaN</td>\n",
       "      <td>NaN</td>\n",
       "      <td>NaN</td>\n",
       "      <td>NaN</td>\n",
       "      <td>NaN</td>\n",
       "      <td>NaN</td>\n",
       "      <td>0.648649</td>\n",
       "      <td>...</td>\n",
       "      <td>NaN</td>\n",
       "      <td>NaN</td>\n",
       "      <td>NaN</td>\n",
       "      <td>NaN</td>\n",
       "      <td>NaN</td>\n",
       "      <td>NaN</td>\n",
       "      <td>NaN</td>\n",
       "      <td>NaN</td>\n",
       "      <td>NaN</td>\n",
       "      <td>NaN</td>\n",
       "    </tr>\n",
       "    <tr>\n",
       "      <th>769</th>\n",
       "      <td>NaN</td>\n",
       "      <td>NaN</td>\n",
       "      <td>NaN</td>\n",
       "      <td>NaN</td>\n",
       "      <td>NaN</td>\n",
       "      <td>NaN</td>\n",
       "      <td>NaN</td>\n",
       "      <td>NaN</td>\n",
       "      <td>NaN</td>\n",
       "      <td>NaN</td>\n",
       "      <td>...</td>\n",
       "      <td>NaN</td>\n",
       "      <td>NaN</td>\n",
       "      <td>NaN</td>\n",
       "      <td>NaN</td>\n",
       "      <td>NaN</td>\n",
       "      <td>NaN</td>\n",
       "      <td>NaN</td>\n",
       "      <td>NaN</td>\n",
       "      <td>NaN</td>\n",
       "      <td>NaN</td>\n",
       "    </tr>\n",
       "  </tbody>\n",
       "</table>\n",
       "<p>5 rows × 1821 columns</p>\n",
       "</div>"
      ],
      "text/plain": [
       "movieId     8         28     43     48     61     64     66     92     96     \\\n",
       "userId                                                                         \n",
       "7        1.096154  0.096154    NaN    NaN    NaN    NaN    NaN    NaN    NaN   \n",
       "79            NaN       NaN    NaN    NaN    NaN    NaN    NaN    NaN    NaN   \n",
       "199           NaN       NaN    NaN    NaN    NaN    NaN    NaN    NaN    NaN   \n",
       "481           NaN       NaN    NaN    NaN    NaN    NaN    NaN    NaN    NaN   \n",
       "769           NaN       NaN    NaN    NaN    NaN    NaN    NaN    NaN    NaN   \n",
       "\n",
       "movieId     111    ...  17654  17660  17689  17693  17706  17725  17728  \\\n",
       "userId             ...                                                    \n",
       "7             NaN  ...    NaN    NaN    NaN    NaN    NaN    NaN    NaN   \n",
       "79            NaN  ...    NaN    NaN    NaN    NaN    NaN    NaN    NaN   \n",
       "199      0.056338  ...    NaN    NaN    NaN    NaN    NaN    NaN    NaN   \n",
       "481      0.648649  ...    NaN    NaN    NaN    NaN    NaN    NaN    NaN   \n",
       "769           NaN  ...    NaN    NaN    NaN    NaN    NaN    NaN    NaN   \n",
       "\n",
       "movieId  17734  17741  17742  \n",
       "userId                        \n",
       "7          NaN    NaN    NaN  \n",
       "79         NaN    NaN    NaN  \n",
       "199        NaN    NaN    NaN  \n",
       "481        NaN    NaN    NaN  \n",
       "769        NaN    NaN    NaN  \n",
       "\n",
       "[5 rows x 1821 columns]"
      ]
     },
     "execution_count": 5,
     "metadata": {},
     "output_type": "execute_result"
    }
   ],
   "source": [
    "rating_avg.rename(columns={'rating_x': 'ratings', 'rating_y': 'mean'}, inplace=True)\n",
    "rating_avg['normalized'] = rating_avg['ratings'] - rating_avg['mean']\n",
    "# print(rating_avg.head())\n",
    "user_movie = pd.pivot_table(rating_avg, values='normalized', index='userId', columns='movieId')\n",
    "user_movie.head()"
   ]
  },
  {
   "cell_type": "code",
   "execution_count": 6,
   "metadata": {
    "id": "98HgnWzQqfvP"
   },
   "outputs": [],
   "source": [
    "user_movie.fillna(0, inplace = True)"
   ]
  },
  {
   "cell_type": "code",
   "execution_count": null,
   "metadata": {
    "id": "kHZUmVSFu7d9"
   },
   "outputs": [],
   "source": [
    "weights = np.dot(user_movie, user_movie.T) / (np.linalg.norm(user_movie) * np.linalg.norm(user_movie.T))\n",
    "np.fill_diagonal(weights, 1)\n",
    "weight_matrix = pd.DataFrame(weights, index = user_movie.index, columns = user_movie.index)"
   ]
  },
  {
   "cell_type": "code",
   "execution_count": 8,
   "metadata": {
    "id": "ny7r_w21QTwv"
   },
   "outputs": [],
   "source": [
    "def get_nearest_neighbours(k, userId, movieId):\n",
    "    if k == 0:\n",
    "      return weight_matrix.loc[userId].to_numpy(), user_movie[movieId].to_numpy()\n",
    "    else:\n",
    "      sorted_users = weight_matrix.loc[userId].sort_values(ascending=False).iloc[1:k+1]\n",
    "      k_users = sorted_users.index.to_numpy()\n",
    "      k_ratings = np.array([user_movie[movieId].loc[user] for user in k_users])\n",
    "      return k_users, k_ratings"
   ]
  },
  {
   "cell_type": "code",
   "execution_count": 3,
   "metadata": {
    "id": "UJ4gwPjLDnva"
   },
   "outputs": [],
   "source": [
    "testing_data = pd.read_csv('./dataset/test.txt', names=['movieId', 'userId', 'rating'])\n",
    "y_actual = np.array(testing_data['rating'])   "
   ]
  },
  {
   "cell_type": "code",
   "execution_count": 22,
   "metadata": {
    "id": "lmvSwitl1UUA"
   },
   "outputs": [],
   "source": [
    "def init_testing(neighbors = 0): \n",
    "    y_predicted = []\n",
    "    for _, r in testing_data.iterrows():\n",
    "      test_user_id = int(r['userId'])\n",
    "      test_movie_id = int(r['movieId'])\n",
    "      v_a_bar = rating_avg.loc[rating_avg['userId'] == test_user_id]['mean'].unique()[0]\n",
    "      active_row, all_ratings = get_nearest_neighbours(neighbors, test_user_id, test_movie_id)\n",
    "      weight_summation = np.sum(active_row)\n",
    "      if int(weight_summation) == 0:\n",
    "        y_predicted.append(v_a_bar)\n",
    "        continue\n",
    "      kapa = 1 / weight_summation\n",
    "      predicted_rating = v_a_bar + (kapa * (np.dot(active_row, all_ratings.T)))\n",
    "      y_predicted.append(predicted_rating)\n",
    "    return y_predicted"
   ]
  },
  {
   "cell_type": "code",
   "execution_count": null,
   "metadata": {
    "id": "GM48e4HBrMA3"
   },
   "outputs": [],
   "source": []
  },
  {
   "cell_type": "code",
   "execution_count": null,
   "metadata": {
    "colab": {
     "base_uri": "https://localhost:8080/"
    },
    "id": "l53Ex2sfaKHr",
    "outputId": "d30d45d6-ae7a-4ddc-ec64-dbfe65cc5ccd"
   },
   "outputs": [
    {
     "name": "stdout",
     "output_type": "stream",
     "text": [
      "\n",
      "Based on 500 nearest users: \n",
      "RMSE 0.9040858861520865\n",
      " MAE 0.7082903817830285\n"
     ]
    }
   ],
   "source": [
    "for i in [0, 10, 50, 150, 500]:\n",
    "  num = 'all' if i == 0 else i\n",
    "  y_predicted = init_testing(i) \n",
    "  print(f'\\nBased on {num} nearest users: ')\n",
    "  print('RMSE', rmse(y_predicted, y_actual))\n",
    "  print('MAE', mae(y_predicted, y_actual))"
   ]
  },
  {
   "cell_type": "code",
   "execution_count": null,
   "metadata": {
    "id": "SfaffFNYD7UA"
   },
   "outputs": [],
   "source": []
  }
 ],
 "metadata": {
  "colab": {
   "collapsed_sections": [],
   "name": "recommender.ipynb",
   "provenance": []
  },
  "kernelspec": {
   "display_name": "Python 3 (ipykernel)",
   "language": "python",
   "name": "python3"
  },
  "language_info": {
   "codemirror_mode": {
    "name": "ipython",
    "version": 3
   },
   "file_extension": ".py",
   "mimetype": "text/x-python",
   "name": "python",
   "nbconvert_exporter": "python",
   "pygments_lexer": "ipython3",
   "version": "3.8.10"
  }
 },
 "nbformat": 4,
 "nbformat_minor": 1
}
